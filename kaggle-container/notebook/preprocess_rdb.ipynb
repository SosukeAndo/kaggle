{
  "nbformat": 4,
  "nbformat_minor": 0,
  "metadata": {
    "colab": {
      "name": "preprocess_rdb.ipynb",
      "provenance": [],
      "collapsed_sections": []
    },
    "kernelspec": {
      "name": "python3",
      "display_name": "Python 3"
    },
    "language_info": {
      "name": "python"
    }
  },
  "cells": [
    {
      "cell_type": "markdown",
      "source": [
        "# インポート, csvファイルダウンロード\n",
        " (まずkaggle.jsonファイルをカレントディレクトリに置いて置く)"
      ],
      "metadata": {
        "id": "m1-Yt5N36YwQ"
      }
    },
    {
      "cell_type": "code",
      "execution_count": 8,
      "metadata": {
        "id": "tatq7aCVSXOU"
      },
      "outputs": [],
      "source": [
        "#kaggleAPIトークンファイルを設定する\n",
        "!mkdir -p ~/.kaggle\n",
        "!cp kaggle.json ~/.kaggle\n",
        "!chmod 600 ~/.kaggle/kaggle.json"
      ]
    },
    {
      "cell_type": "code",
      "source": [
        "from kaggle import KaggleApi\n",
        "import pandas as pd\n",
        "import numpy as np\n",
        "from matplotlib import pyplot as plt\n",
        "import seaborn as sns\n",
        "import torch\n",
        "from torch import nn, optim\n",
        "from torchsummary import torchsummary\n",
        "import zipfile\n",
        "import os\n",
        "\n",
        "#kaggleAPIをインスタンス化して認証する\n",
        "api = KaggleApi()\n",
        "api.authenticate()"
      ],
      "metadata": {
        "id": "aQp-3g0kSZ9U"
      },
      "execution_count": 9,
      "outputs": []
    },
    {
      "cell_type": "code",
      "source": [
        "#kaggleAPI経由でファイルをダウンロードして解凍する\n",
        "compe_name = 'h-and-m-personalized-fashion-recommendations'\n",
        "csv_fname = [f for f in api.competition_list_files(compe_name) if '.csv' in f.name]\n",
        "for f in csv_fname:\n",
        "  api.competition_download_file(compe_name,f.name)\n",
        "  with zipfile.ZipFile(f.name+'.zip') as zf:\n",
        "    zf.extractall()\n",
        "  os.remove(f.name+'.zip')\n",
        "for i, f in enumerate(csv_fname): print(i, f)"
      ],
      "metadata": {
        "colab": {
          "base_uri": "https://localhost:8080/"
        },
        "id": "Sz2hC1CZSbJi",
        "outputId": "244081a9-30c3-44b6-a64d-8e82ba64b9c7"
      },
      "execution_count": 10,
      "outputs": [
        {
          "output_type": "stream",
          "name": "stdout",
          "text": [
            "Downloading customers.csv.zip to /content\n"
          ]
        },
        {
          "output_type": "stream",
          "name": "stderr",
          "text": [
            "100%|██████████| 97.9M/97.9M [00:00<00:00, 125MB/s]\n"
          ]
        },
        {
          "output_type": "stream",
          "name": "stdout",
          "text": [
            "\n",
            "Downloading sample_submission.csv.zip to /content\n"
          ]
        },
        {
          "output_type": "stream",
          "name": "stderr",
          "text": [
            "100%|██████████| 50.3M/50.3M [00:00<00:00, 125MB/s]\n"
          ]
        },
        {
          "output_type": "stream",
          "name": "stdout",
          "text": [
            "\n",
            "Downloading transactions_train.csv.zip to /content\n"
          ]
        },
        {
          "output_type": "stream",
          "name": "stderr",
          "text": [
            "100%|██████████| 584M/584M [00:04<00:00, 148MB/s]\n"
          ]
        },
        {
          "output_type": "stream",
          "name": "stdout",
          "text": [
            "\n",
            "Downloading articles.csv.zip to /content\n"
          ]
        },
        {
          "output_type": "stream",
          "name": "stderr",
          "text": [
            "100%|██████████| 4.26M/4.26M [00:00<00:00, 60.1MB/s]"
          ]
        },
        {
          "output_type": "stream",
          "name": "stdout",
          "text": [
            "\n"
          ]
        },
        {
          "output_type": "stream",
          "name": "stderr",
          "text": [
            "\n"
          ]
        },
        {
          "output_type": "stream",
          "name": "stdout",
          "text": [
            "0 customers.csv\n",
            "1 sample_submission.csv\n",
            "2 transactions_train.csv\n",
            "3 articles.csv\n"
          ]
        }
      ]
    },
    {
      "cell_type": "markdown",
      "source": [
        "# Dataframeの作成"
      ],
      "metadata": {
        "id": "Q_RZcd5w6_7x"
      }
    },
    {
      "cell_type": "code",
      "source": [
        "transactions = pd.read_csv('transactions_train.csv')\n",
        "customers = pd.read_csv('customers.csv').set_index('customer_id')\n",
        "articles = pd.read_csv('articles.csv').set_index('article_id')"
      ],
      "metadata": {
        "id": "UlLA7JHpScoj"
      },
      "execution_count": 11,
      "outputs": []
    },
    {
      "cell_type": "code",
      "source": [
        "#結合処理が重すぎるのでとりあえず取引データを10,000件サンプリング\n",
        "transactions_lt = transactions.sample(10000)\n",
        "#customerIDごとに取引データをグルーピングして、服カテゴリデータを結合する\n",
        "ap_info = ['product_code','product_type_no','colour_group_code','garment_group_no']\n",
        "transactions_by_customer = transactions_lt.groupby('customer_id').apply(lambda d:[articles.loc[id][ap_info].to_list() for id in d['article_id']])\n",
        "display(transactions_by_customer)"
      ],
      "metadata": {
        "id": "9bovU8FOSjOO"
      },
      "execution_count": 12,
      "outputs": []
    }
  ]
}