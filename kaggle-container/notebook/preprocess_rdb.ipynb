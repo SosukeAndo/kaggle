{
  "nbformat": 4,
  "nbformat_minor": 0,
  "metadata": {
    "colab": {
      "name": "preprocess_rdb.ipynb",
      "provenance": [],
      "collapsed_sections": []
    },
    "kernelspec": {
      "name": "python3",
      "display_name": "Python 3"
    },
    "language_info": {
      "name": "python"
    }
  },
  "cells": [
    {
      "cell_type": "markdown",
      "source": [
        "# インポート, csvファイルダウンロード\n",
        " (まずkaggle.jsonファイルをカレントディレクトリに置いて置く)"
      ],
      "metadata": {
        "id": "m1-Yt5N36YwQ"
      }
    },
    {
      "cell_type": "code",
      "execution_count": 1,
      "metadata": {
        "id": "tatq7aCVSXOU"
      },
      "outputs": [],
      "source": [
        "#kaggleAPIトークンファイルを設定する\n",
        "!mkdir -p ~/.kaggle\n",
        "!cp kaggle.json ~/.kaggle\n",
        "!chmod 600 ~/.kaggle/kaggle.json"
      ]
    },
    {
      "cell_type": "code",
      "source": [
        "from kaggle import KaggleApi\n",
        "import pandas as pd\n",
        "import numpy as np\n",
        "from matplotlib import pyplot as plt\n",
        "import seaborn as sns\n",
        "import torch\n",
        "from torch import nn, optim\n",
        "from torchsummary import torchsummary\n",
        "import zipfile\n",
        "import os\n",
        "\n",
        "#kaggleAPIをインスタンス化して認証する\n",
        "api = KaggleApi()\n",
        "api.authenticate()"
      ],
      "metadata": {
        "id": "aQp-3g0kSZ9U"
      },
      "execution_count": 4,
      "outputs": []
    },
    {
      "cell_type": "code",
      "source": [
        "#kaggleAPI経由でファイルをダウンロードして解凍する\n",
        "compe_name = 'h-and-m-personalized-fashion-recommendations'\n",
        "csv_fname = [f for f in api.competition_list_files(compe_name) if '.csv' in f.name]\n",
        "for f in csv_fname:\n",
        "  api.competition_download_file(compe_name,f.name)\n",
        "  with zipfile.ZipFile(f.name+'.zip') as zf:\n",
        "    zf.extractall('resources')\n",
        "  os.remove(f.name+'.zip')\n",
        "for i, f in enumerate(csv_fname): print(i, f)"
      ],
      "metadata": {
        "colab": {
          "base_uri": "https://localhost:8080/"
        },
        "id": "Sz2hC1CZSbJi",
        "outputId": "72b1f9a6-c3ae-4f7d-aba2-18f04bb7afd0"
      },
      "execution_count": 2,
      "outputs": [
        {
          "output_type": "stream",
          "name": "stdout",
          "text": [
            "Downloading articles.csv.zip to /content\n"
          ]
        },
        {
          "output_type": "stream",
          "name": "stderr",
          "text": [
            "100%|██████████| 4.26M/4.26M [00:00<00:00, 70.2MB/s]"
          ]
        },
        {
          "output_type": "stream",
          "name": "stdout",
          "text": [
            "\n"
          ]
        },
        {
          "output_type": "stream",
          "name": "stderr",
          "text": [
            "\n"
          ]
        },
        {
          "output_type": "stream",
          "name": "stdout",
          "text": [
            "Downloading transactions_train.csv.zip to /content\n"
          ]
        },
        {
          "output_type": "stream",
          "name": "stderr",
          "text": [
            "100%|██████████| 584M/584M [00:04<00:00, 126MB/s]\n"
          ]
        },
        {
          "output_type": "stream",
          "name": "stdout",
          "text": [
            "\n",
            "Downloading sample_submission.csv.zip to /content\n"
          ]
        },
        {
          "output_type": "stream",
          "name": "stderr",
          "text": [
            "100%|██████████| 50.3M/50.3M [00:00<00:00, 176MB/s]\n"
          ]
        },
        {
          "output_type": "stream",
          "name": "stdout",
          "text": [
            "\n",
            "Downloading customers.csv.zip to /content\n"
          ]
        },
        {
          "output_type": "stream",
          "name": "stderr",
          "text": [
            "100%|██████████| 97.9M/97.9M [00:00<00:00, 216MB/s]\n"
          ]
        },
        {
          "output_type": "stream",
          "name": "stdout",
          "text": [
            "\n",
            "0 articles.csv\n",
            "1 transactions_train.csv\n",
            "2 sample_submission.csv\n",
            "3 customers.csv\n"
          ]
        }
      ]
    },
    {
      "cell_type": "markdown",
      "source": [
        "# Dataframeの作成"
      ],
      "metadata": {
        "id": "Q_RZcd5w6_7x"
      }
    },
    {
      "cell_type": "code",
      "source": [
        "#取引履歴, 商品情報, 顧客情報のファイルを読み込む\n",
        "transactions = pd.read_csv('transactions_train.csv')\n",
        "customers = pd.read_csv('customers.csv')\n",
        "articles = pd.read_csv('articles.csv')"
      ],
      "metadata": {
        "id": "UlLA7JHpScoj"
      },
      "execution_count": 5,
      "outputs": []
    },
    {
      "cell_type": "code",
      "source": [
        "#取引データベースと商品データベースを結合する\n",
        "articles_info = ['article_id','product_code','product_type_no','colour_group_code','garment_group_no']\n",
        "db = pd.merge(transactions, articles[articles_info], on='article_id')"
      ],
      "metadata": {
        "id": "oraitQxOE2YI"
      },
      "execution_count": 6,
      "outputs": []
    },
    {
      "cell_type": "code",
      "source": [
        "del transactions, articles, customers"
      ],
      "metadata": {
        "id": "jAUEFv7UJx84"
      },
      "execution_count": 7,
      "outputs": []
    },
    {
      "cell_type": "code",
      "source": [
        "#customerIDごとに取引データをグルーピングする\n",
        "group_by_customer = db.groupby('customer_id')"
      ],
      "metadata": {
        "id": "9bovU8FOSjOO"
      },
      "execution_count": 8,
      "outputs": []
    },
    {
      "cell_type": "code",
      "source": [
        "#各顧客の購入履歴の中身\n",
        "next(iter(group_by_customer))[1]"
      ],
      "metadata": {
        "colab": {
          "base_uri": "https://localhost:8080/",
          "height": 707
        },
        "id": "49dsHQy3ItFz",
        "outputId": "9f284fe2-73d2-46fd-ddd3-f6ec1b265755"
      },
      "execution_count": 9,
      "outputs": [
        {
          "output_type": "execute_result",
          "data": {
            "text/plain": [
              "               t_dat                                        customer_id  \\\n",
              "576487    2019-09-18  00000dbacae5abe5e23885899a1fa44253a17956c6d1c3...   \n",
              "1100423   2019-05-25  00000dbacae5abe5e23885899a1fa44253a17956c6d1c3...   \n",
              "1100424   2019-05-25  00000dbacae5abe5e23885899a1fa44253a17956c6d1c3...   \n",
              "4770746   2018-12-27  00000dbacae5abe5e23885899a1fa44253a17956c6d1c3...   \n",
              "6262103   2018-12-27  00000dbacae5abe5e23885899a1fa44253a17956c6d1c3...   \n",
              "6596034   2018-12-27  00000dbacae5abe5e23885899a1fa44253a17956c6d1c3...   \n",
              "13774213  2019-07-25  00000dbacae5abe5e23885899a1fa44253a17956c6d1c3...   \n",
              "14587547  2019-05-02  00000dbacae5abe5e23885899a1fa44253a17956c6d1c3...   \n",
              "17653253  2019-07-25  00000dbacae5abe5e23885899a1fa44253a17956c6d1c3...   \n",
              "18345386  2020-03-21  00000dbacae5abe5e23885899a1fa44253a17956c6d1c3...   \n",
              "22124079  2019-09-28  00000dbacae5abe5e23885899a1fa44253a17956c6d1c3...   \n",
              "22124080  2019-09-28  00000dbacae5abe5e23885899a1fa44253a17956c6d1c3...   \n",
              "22208934  2019-11-28  00000dbacae5abe5e23885899a1fa44253a17956c6d1c3...   \n",
              "22942200  2019-11-28  00000dbacae5abe5e23885899a1fa44253a17956c6d1c3...   \n",
              "23247639  2019-11-22  00000dbacae5abe5e23885899a1fa44253a17956c6d1c3...   \n",
              "24229417  2019-11-28  00000dbacae5abe5e23885899a1fa44253a17956c6d1c3...   \n",
              "25056662  2020-03-21  00000dbacae5abe5e23885899a1fa44253a17956c6d1c3...   \n",
              "26810539  2020-03-21  00000dbacae5abe5e23885899a1fa44253a17956c6d1c3...   \n",
              "27331387  2020-03-21  00000dbacae5abe5e23885899a1fa44253a17956c6d1c3...   \n",
              "28410210  2020-03-21  00000dbacae5abe5e23885899a1fa44253a17956c6d1c3...   \n",
              "31349299  2020-09-05  00000dbacae5abe5e23885899a1fa44253a17956c6d1c3...   \n",
              "\n",
              "          article_id     price  sales_channel_id  product_code  \\\n",
              "576487     656719005  0.044051                 2        656719   \n",
              "1100423    568601006  0.050831                 2        568601   \n",
              "1100424    568601006  0.050831                 2        568601   \n",
              "4770746    627759010  0.030492                 1        627759   \n",
              "6262103    625548001  0.044051                 1        625548   \n",
              "6596034    176209023  0.035576                 1        176209   \n",
              "13774213   607642008  0.012695                 1        607642   \n",
              "14587547   697138006  0.010153                 2        697138   \n",
              "17653253   745232001  0.021169                 1        745232   \n",
              "18345386   795440001  0.014390                 2        795440   \n",
              "22124079   797065001  0.054220                 2        797065   \n",
              "22124080   797065001  0.054220                 2        797065   \n",
              "22208934   694736004  0.018288                 1        694736   \n",
              "22942200   785710001  0.024407                 1        785710   \n",
              "23247639   785186005  0.016932                 2        785186   \n",
              "24229417   812683013  0.036593                 1        812683   \n",
              "25056662   841260003  0.011508                 2        841260   \n",
              "26810539   859416011  0.014390                 2        859416   \n",
              "27331387   887593002  0.021593                 2        887593   \n",
              "28410210   890498002  0.031763                 2        890498   \n",
              "31349299   568601043  0.050831                 1        568601   \n",
              "\n",
              "          product_type_no  colour_group_code  garment_group_no  \n",
              "576487                272                  9              1009  \n",
              "1100423               264                  9              1008  \n",
              "1100424               264                  9              1008  \n",
              "4770746               262                 73              1007  \n",
              "6262103               262                 73              1007  \n",
              "6596034               308                  9              1007  \n",
              "13774213              259                  9              1010  \n",
              "14587547              267                 51              1005  \n",
              "17653253              275                  9              1016  \n",
              "18345386              253                  9              1005  \n",
              "22124079              264                  9              1008  \n",
              "22124080              264                  9              1008  \n",
              "22208934               71                  9              1019  \n",
              "22942200              252                  9              1003  \n",
              "23247639              254                  9              1005  \n",
              "24229417              265                  9              1013  \n",
              "25056662              255                 12              1005  \n",
              "26810539              252                  9              1005  \n",
              "27331387              254                 11              1005  \n",
              "28410210              262                 19              1007  \n",
              "31349299              264                 93              1008  "
            ],
            "text/html": [
              "\n",
              "  <div id=\"df-331e4aa1-5633-4694-8720-36f5a6959cda\">\n",
              "    <div class=\"colab-df-container\">\n",
              "      <div>\n",
              "<style scoped>\n",
              "    .dataframe tbody tr th:only-of-type {\n",
              "        vertical-align: middle;\n",
              "    }\n",
              "\n",
              "    .dataframe tbody tr th {\n",
              "        vertical-align: top;\n",
              "    }\n",
              "\n",
              "    .dataframe thead th {\n",
              "        text-align: right;\n",
              "    }\n",
              "</style>\n",
              "<table border=\"1\" class=\"dataframe\">\n",
              "  <thead>\n",
              "    <tr style=\"text-align: right;\">\n",
              "      <th></th>\n",
              "      <th>t_dat</th>\n",
              "      <th>customer_id</th>\n",
              "      <th>article_id</th>\n",
              "      <th>price</th>\n",
              "      <th>sales_channel_id</th>\n",
              "      <th>product_code</th>\n",
              "      <th>product_type_no</th>\n",
              "      <th>colour_group_code</th>\n",
              "      <th>garment_group_no</th>\n",
              "    </tr>\n",
              "  </thead>\n",
              "  <tbody>\n",
              "    <tr>\n",
              "      <th>576487</th>\n",
              "      <td>2019-09-18</td>\n",
              "      <td>00000dbacae5abe5e23885899a1fa44253a17956c6d1c3...</td>\n",
              "      <td>656719005</td>\n",
              "      <td>0.044051</td>\n",
              "      <td>2</td>\n",
              "      <td>656719</td>\n",
              "      <td>272</td>\n",
              "      <td>9</td>\n",
              "      <td>1009</td>\n",
              "    </tr>\n",
              "    <tr>\n",
              "      <th>1100423</th>\n",
              "      <td>2019-05-25</td>\n",
              "      <td>00000dbacae5abe5e23885899a1fa44253a17956c6d1c3...</td>\n",
              "      <td>568601006</td>\n",
              "      <td>0.050831</td>\n",
              "      <td>2</td>\n",
              "      <td>568601</td>\n",
              "      <td>264</td>\n",
              "      <td>9</td>\n",
              "      <td>1008</td>\n",
              "    </tr>\n",
              "    <tr>\n",
              "      <th>1100424</th>\n",
              "      <td>2019-05-25</td>\n",
              "      <td>00000dbacae5abe5e23885899a1fa44253a17956c6d1c3...</td>\n",
              "      <td>568601006</td>\n",
              "      <td>0.050831</td>\n",
              "      <td>2</td>\n",
              "      <td>568601</td>\n",
              "      <td>264</td>\n",
              "      <td>9</td>\n",
              "      <td>1008</td>\n",
              "    </tr>\n",
              "    <tr>\n",
              "      <th>4770746</th>\n",
              "      <td>2018-12-27</td>\n",
              "      <td>00000dbacae5abe5e23885899a1fa44253a17956c6d1c3...</td>\n",
              "      <td>627759010</td>\n",
              "      <td>0.030492</td>\n",
              "      <td>1</td>\n",
              "      <td>627759</td>\n",
              "      <td>262</td>\n",
              "      <td>73</td>\n",
              "      <td>1007</td>\n",
              "    </tr>\n",
              "    <tr>\n",
              "      <th>6262103</th>\n",
              "      <td>2018-12-27</td>\n",
              "      <td>00000dbacae5abe5e23885899a1fa44253a17956c6d1c3...</td>\n",
              "      <td>625548001</td>\n",
              "      <td>0.044051</td>\n",
              "      <td>1</td>\n",
              "      <td>625548</td>\n",
              "      <td>262</td>\n",
              "      <td>73</td>\n",
              "      <td>1007</td>\n",
              "    </tr>\n",
              "    <tr>\n",
              "      <th>6596034</th>\n",
              "      <td>2018-12-27</td>\n",
              "      <td>00000dbacae5abe5e23885899a1fa44253a17956c6d1c3...</td>\n",
              "      <td>176209023</td>\n",
              "      <td>0.035576</td>\n",
              "      <td>1</td>\n",
              "      <td>176209</td>\n",
              "      <td>308</td>\n",
              "      <td>9</td>\n",
              "      <td>1007</td>\n",
              "    </tr>\n",
              "    <tr>\n",
              "      <th>13774213</th>\n",
              "      <td>2019-07-25</td>\n",
              "      <td>00000dbacae5abe5e23885899a1fa44253a17956c6d1c3...</td>\n",
              "      <td>607642008</td>\n",
              "      <td>0.012695</td>\n",
              "      <td>1</td>\n",
              "      <td>607642</td>\n",
              "      <td>259</td>\n",
              "      <td>9</td>\n",
              "      <td>1010</td>\n",
              "    </tr>\n",
              "    <tr>\n",
              "      <th>14587547</th>\n",
              "      <td>2019-05-02</td>\n",
              "      <td>00000dbacae5abe5e23885899a1fa44253a17956c6d1c3...</td>\n",
              "      <td>697138006</td>\n",
              "      <td>0.010153</td>\n",
              "      <td>2</td>\n",
              "      <td>697138</td>\n",
              "      <td>267</td>\n",
              "      <td>51</td>\n",
              "      <td>1005</td>\n",
              "    </tr>\n",
              "    <tr>\n",
              "      <th>17653253</th>\n",
              "      <td>2019-07-25</td>\n",
              "      <td>00000dbacae5abe5e23885899a1fa44253a17956c6d1c3...</td>\n",
              "      <td>745232001</td>\n",
              "      <td>0.021169</td>\n",
              "      <td>1</td>\n",
              "      <td>745232</td>\n",
              "      <td>275</td>\n",
              "      <td>9</td>\n",
              "      <td>1016</td>\n",
              "    </tr>\n",
              "    <tr>\n",
              "      <th>18345386</th>\n",
              "      <td>2020-03-21</td>\n",
              "      <td>00000dbacae5abe5e23885899a1fa44253a17956c6d1c3...</td>\n",
              "      <td>795440001</td>\n",
              "      <td>0.014390</td>\n",
              "      <td>2</td>\n",
              "      <td>795440</td>\n",
              "      <td>253</td>\n",
              "      <td>9</td>\n",
              "      <td>1005</td>\n",
              "    </tr>\n",
              "    <tr>\n",
              "      <th>22124079</th>\n",
              "      <td>2019-09-28</td>\n",
              "      <td>00000dbacae5abe5e23885899a1fa44253a17956c6d1c3...</td>\n",
              "      <td>797065001</td>\n",
              "      <td>0.054220</td>\n",
              "      <td>2</td>\n",
              "      <td>797065</td>\n",
              "      <td>264</td>\n",
              "      <td>9</td>\n",
              "      <td>1008</td>\n",
              "    </tr>\n",
              "    <tr>\n",
              "      <th>22124080</th>\n",
              "      <td>2019-09-28</td>\n",
              "      <td>00000dbacae5abe5e23885899a1fa44253a17956c6d1c3...</td>\n",
              "      <td>797065001</td>\n",
              "      <td>0.054220</td>\n",
              "      <td>2</td>\n",
              "      <td>797065</td>\n",
              "      <td>264</td>\n",
              "      <td>9</td>\n",
              "      <td>1008</td>\n",
              "    </tr>\n",
              "    <tr>\n",
              "      <th>22208934</th>\n",
              "      <td>2019-11-28</td>\n",
              "      <td>00000dbacae5abe5e23885899a1fa44253a17956c6d1c3...</td>\n",
              "      <td>694736004</td>\n",
              "      <td>0.018288</td>\n",
              "      <td>1</td>\n",
              "      <td>694736</td>\n",
              "      <td>71</td>\n",
              "      <td>9</td>\n",
              "      <td>1019</td>\n",
              "    </tr>\n",
              "    <tr>\n",
              "      <th>22942200</th>\n",
              "      <td>2019-11-28</td>\n",
              "      <td>00000dbacae5abe5e23885899a1fa44253a17956c6d1c3...</td>\n",
              "      <td>785710001</td>\n",
              "      <td>0.024407</td>\n",
              "      <td>1</td>\n",
              "      <td>785710</td>\n",
              "      <td>252</td>\n",
              "      <td>9</td>\n",
              "      <td>1003</td>\n",
              "    </tr>\n",
              "    <tr>\n",
              "      <th>23247639</th>\n",
              "      <td>2019-11-22</td>\n",
              "      <td>00000dbacae5abe5e23885899a1fa44253a17956c6d1c3...</td>\n",
              "      <td>785186005</td>\n",
              "      <td>0.016932</td>\n",
              "      <td>2</td>\n",
              "      <td>785186</td>\n",
              "      <td>254</td>\n",
              "      <td>9</td>\n",
              "      <td>1005</td>\n",
              "    </tr>\n",
              "    <tr>\n",
              "      <th>24229417</th>\n",
              "      <td>2019-11-28</td>\n",
              "      <td>00000dbacae5abe5e23885899a1fa44253a17956c6d1c3...</td>\n",
              "      <td>812683013</td>\n",
              "      <td>0.036593</td>\n",
              "      <td>1</td>\n",
              "      <td>812683</td>\n",
              "      <td>265</td>\n",
              "      <td>9</td>\n",
              "      <td>1013</td>\n",
              "    </tr>\n",
              "    <tr>\n",
              "      <th>25056662</th>\n",
              "      <td>2020-03-21</td>\n",
              "      <td>00000dbacae5abe5e23885899a1fa44253a17956c6d1c3...</td>\n",
              "      <td>841260003</td>\n",
              "      <td>0.011508</td>\n",
              "      <td>2</td>\n",
              "      <td>841260</td>\n",
              "      <td>255</td>\n",
              "      <td>12</td>\n",
              "      <td>1005</td>\n",
              "    </tr>\n",
              "    <tr>\n",
              "      <th>26810539</th>\n",
              "      <td>2020-03-21</td>\n",
              "      <td>00000dbacae5abe5e23885899a1fa44253a17956c6d1c3...</td>\n",
              "      <td>859416011</td>\n",
              "      <td>0.014390</td>\n",
              "      <td>2</td>\n",
              "      <td>859416</td>\n",
              "      <td>252</td>\n",
              "      <td>9</td>\n",
              "      <td>1005</td>\n",
              "    </tr>\n",
              "    <tr>\n",
              "      <th>27331387</th>\n",
              "      <td>2020-03-21</td>\n",
              "      <td>00000dbacae5abe5e23885899a1fa44253a17956c6d1c3...</td>\n",
              "      <td>887593002</td>\n",
              "      <td>0.021593</td>\n",
              "      <td>2</td>\n",
              "      <td>887593</td>\n",
              "      <td>254</td>\n",
              "      <td>11</td>\n",
              "      <td>1005</td>\n",
              "    </tr>\n",
              "    <tr>\n",
              "      <th>28410210</th>\n",
              "      <td>2020-03-21</td>\n",
              "      <td>00000dbacae5abe5e23885899a1fa44253a17956c6d1c3...</td>\n",
              "      <td>890498002</td>\n",
              "      <td>0.031763</td>\n",
              "      <td>2</td>\n",
              "      <td>890498</td>\n",
              "      <td>262</td>\n",
              "      <td>19</td>\n",
              "      <td>1007</td>\n",
              "    </tr>\n",
              "    <tr>\n",
              "      <th>31349299</th>\n",
              "      <td>2020-09-05</td>\n",
              "      <td>00000dbacae5abe5e23885899a1fa44253a17956c6d1c3...</td>\n",
              "      <td>568601043</td>\n",
              "      <td>0.050831</td>\n",
              "      <td>1</td>\n",
              "      <td>568601</td>\n",
              "      <td>264</td>\n",
              "      <td>93</td>\n",
              "      <td>1008</td>\n",
              "    </tr>\n",
              "  </tbody>\n",
              "</table>\n",
              "</div>\n",
              "      <button class=\"colab-df-convert\" onclick=\"convertToInteractive('df-331e4aa1-5633-4694-8720-36f5a6959cda')\"\n",
              "              title=\"Convert this dataframe to an interactive table.\"\n",
              "              style=\"display:none;\">\n",
              "        \n",
              "  <svg xmlns=\"http://www.w3.org/2000/svg\" height=\"24px\"viewBox=\"0 0 24 24\"\n",
              "       width=\"24px\">\n",
              "    <path d=\"M0 0h24v24H0V0z\" fill=\"none\"/>\n",
              "    <path d=\"M18.56 5.44l.94 2.06.94-2.06 2.06-.94-2.06-.94-.94-2.06-.94 2.06-2.06.94zm-11 1L8.5 8.5l.94-2.06 2.06-.94-2.06-.94L8.5 2.5l-.94 2.06-2.06.94zm10 10l.94 2.06.94-2.06 2.06-.94-2.06-.94-.94-2.06-.94 2.06-2.06.94z\"/><path d=\"M17.41 7.96l-1.37-1.37c-.4-.4-.92-.59-1.43-.59-.52 0-1.04.2-1.43.59L10.3 9.45l-7.72 7.72c-.78.78-.78 2.05 0 2.83L4 21.41c.39.39.9.59 1.41.59.51 0 1.02-.2 1.41-.59l7.78-7.78 2.81-2.81c.8-.78.8-2.07 0-2.86zM5.41 20L4 18.59l7.72-7.72 1.47 1.35L5.41 20z\"/>\n",
              "  </svg>\n",
              "      </button>\n",
              "      \n",
              "  <style>\n",
              "    .colab-df-container {\n",
              "      display:flex;\n",
              "      flex-wrap:wrap;\n",
              "      gap: 12px;\n",
              "    }\n",
              "\n",
              "    .colab-df-convert {\n",
              "      background-color: #E8F0FE;\n",
              "      border: none;\n",
              "      border-radius: 50%;\n",
              "      cursor: pointer;\n",
              "      display: none;\n",
              "      fill: #1967D2;\n",
              "      height: 32px;\n",
              "      padding: 0 0 0 0;\n",
              "      width: 32px;\n",
              "    }\n",
              "\n",
              "    .colab-df-convert:hover {\n",
              "      background-color: #E2EBFA;\n",
              "      box-shadow: 0px 1px 2px rgba(60, 64, 67, 0.3), 0px 1px 3px 1px rgba(60, 64, 67, 0.15);\n",
              "      fill: #174EA6;\n",
              "    }\n",
              "\n",
              "    [theme=dark] .colab-df-convert {\n",
              "      background-color: #3B4455;\n",
              "      fill: #D2E3FC;\n",
              "    }\n",
              "\n",
              "    [theme=dark] .colab-df-convert:hover {\n",
              "      background-color: #434B5C;\n",
              "      box-shadow: 0px 1px 3px 1px rgba(0, 0, 0, 0.15);\n",
              "      filter: drop-shadow(0px 1px 2px rgba(0, 0, 0, 0.3));\n",
              "      fill: #FFFFFF;\n",
              "    }\n",
              "  </style>\n",
              "\n",
              "      <script>\n",
              "        const buttonEl =\n",
              "          document.querySelector('#df-331e4aa1-5633-4694-8720-36f5a6959cda button.colab-df-convert');\n",
              "        buttonEl.style.display =\n",
              "          google.colab.kernel.accessAllowed ? 'block' : 'none';\n",
              "\n",
              "        async function convertToInteractive(key) {\n",
              "          const element = document.querySelector('#df-331e4aa1-5633-4694-8720-36f5a6959cda');\n",
              "          const dataTable =\n",
              "            await google.colab.kernel.invokeFunction('convertToInteractive',\n",
              "                                                     [key], {});\n",
              "          if (!dataTable) return;\n",
              "\n",
              "          const docLinkHtml = 'Like what you see? Visit the ' +\n",
              "            '<a target=\"_blank\" href=https://colab.research.google.com/notebooks/data_table.ipynb>data table notebook</a>'\n",
              "            + ' to learn more about interactive tables.';\n",
              "          element.innerHTML = '';\n",
              "          dataTable['output_type'] = 'display_data';\n",
              "          await google.colab.output.renderOutput(dataTable, element);\n",
              "          const docLink = document.createElement('div');\n",
              "          docLink.innerHTML = docLinkHtml;\n",
              "          element.appendChild(docLink);\n",
              "        }\n",
              "      </script>\n",
              "    </div>\n",
              "  </div>\n",
              "  "
            ]
          },
          "metadata": {},
          "execution_count": 9
        }
      ]
    },
    {
      "cell_type": "code",
      "source": [
        "# 各顧客の購買商品点数\n",
        "item_counts_by_customers = group_by_customer.count()['article_id']\n",
        "plt.xscale('log')\n",
        "plt.yscale('log')\n",
        "plt.xlabel('buy_count')\n",
        "plt.ylabel('population')\n",
        "sns.histplot(item_counts_by_customers)\n",
        "max_counts = item_counts_by_customers.max()"
      ],
      "metadata": {
        "colab": {
          "base_uri": "https://localhost:8080/",
          "height": 284
        },
        "id": "dlhBp5fFKv3n",
        "outputId": "c3560808-ceb7-4de6-ad03-16cc9e29067d"
      },
      "execution_count": 12,
      "outputs": [
        {
          "output_type": "display_data",
          "data": {
            "text/plain": [
              "<Figure size 432x288 with 1 Axes>"
            ],
            "image/png": "[encoded data removed]"
          },
          "metadata": {
            "needs_background": "light"
          }
        }
      ]
    },
    {
      "cell_type": "code",
      "source": [
        "ｙ"
      ],
      "metadata": {
        "id": "TNPZrHcfZ1jc"
      },
      "execution_count": null,
      "outputs": []
    }
  ]
}